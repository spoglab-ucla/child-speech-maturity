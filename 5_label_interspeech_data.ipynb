{
  "nbformat": 4,
  "nbformat_minor": 0,
  "metadata": {
    "colab": {
      "provenance": [],
      "gpuType": "T4"
    },
    "kernelspec": {
      "name": "python3",
      "display_name": "Python 3"
    },
    "language_info": {
      "name": "python"
    },
    "accelerator": "GPU"
  },
  "cells": [
    {
      "cell_type": "code",
      "source": [
        "import numpy as np\n",
        "import librosa\n",
        "import pandas as pd\n",
        "import torch\n",
        "import torch.nn as nn\n",
        "import torch.optim as optim\n",
        "import os\n",
        "from tqdm import tqdm\n",
        "from torch.utils.data import random_split, Dataset, DataLoader\n",
        "from sklearn.metrics import recall_score\n",
        "\n",
        "# Load Data\n",
        "# audios = pd.read_csv(\"/content/drive/MyDrive/SPOG/Audio_Clips_Balanced.csv\")\n",
        "# audios = pd.read_csv(\"/content/drive/MyDrive/SPOG/private_metadata.csv\")\n",
        "# audios = pd.read_csv(\"/content/drive/MyDrive/SPOG/BAB.csv\")\n",
        "\n",
        "# Update label mapping for 5 labels\n",
        "label_mapping = {'Canonical': 0, 'Non-canonical': 1, 'Crying': 2, 'Junk': 3, 'Laughing': 4}\n",
        "\n",
        "#filter out nan\n",
        "# audios.dropna(inplace = True)\n",
        "\n",
        "#drop columns\n",
        "# to_drop = ['child_ID', 'age_mo_round', 'child_gender']\n",
        "# audios.drop(columns=to_drop, inplace=True)\n",
        "\n",
        "# Function to get mel spectrogram\n",
        "def get_melspectrogram_db(file_path, sr=None, target_sr=16000, n_fft=1600, hop_length=512, n_mels=128, fmin=20, fmax=8300, top_db=80):\n",
        "    wav, sr = librosa.load(file_path, sr=sr)\n",
        "\n",
        "    # change to mono\n",
        "    if len(wav.shape) > 1:\n",
        "        wav = librosa.to_mono(wav)\n",
        "\n",
        "    # resample to 16000\n",
        "    wav_resampled = librosa.resample(wav, orig_sr=sr, target_sr=target_sr)\n",
        "\n",
        "    # if wav.shape[0] < 0.5 * sr:\n",
        "    #     wav = np.concatenate([wav, wav[-1].repeat(int(0.5 * sr) - wav.shape[0])])\n",
        "\n",
        "    mel_spec = librosa.feature.melspectrogram(y=wav_resampled, sr=sr, n_fft=n_fft,\n",
        "                                           hop_length=hop_length, n_mels=n_mels, fmin=fmin, fmax=fmax)\n",
        "\n",
        "    mel_spec_db = librosa.power_to_db(mel_spec, ref=np.max, top_db=top_db)\n",
        "    return mel_spec_db\n",
        "\n",
        "# Function to convert spectrogram to image\n",
        "def spec_to_image(spec, eps=1e-6):\n",
        "    mean = spec.mean()\n",
        "    std = spec.std()\n",
        "    spec_norm = (spec - mean) / (std + eps)\n",
        "    spec_min, spec_max = spec_norm.min(), spec_norm.max()\n",
        "    spec_scaled = 255 * (spec_norm - spec_min) / (spec_max - spec_min)\n",
        "    spec_scaled = spec_scaled.astype(np.uint8)\n",
        "    return spec_scaled\n",
        "\n"
      ],
      "metadata": {
        "id": "9bfppHVL8tyK"
      },
      "execution_count": 1,
      "outputs": []
    },
    {
      "cell_type": "code",
      "source": [
        "def plot_spectrogram(spec):\n",
        "    plt.figure(figsize=(10, 4))\n",
        "    plt.imshow(spec, origin='lower', aspect='auto', cmap='viridis')\n",
        "    plt.colorbar(format='%+2.0f dB')\n",
        "    plt.title('Spectrogram')\n",
        "    plt.xlabel('Time')\n",
        "    plt.ylabel('Mel Bin')\n",
        "    plt.tight_layout()\n",
        "    plt.show()"
      ],
      "metadata": {
        "id": "4pl2mtTCIBfz"
      },
      "execution_count": 2,
      "outputs": []
    },
    {
      "cell_type": "code",
      "source": [
        "# Define Dataset Class\n",
        "class AudioArrays(Dataset):\n",
        "    def __init__(self, base, df, in_col, out_col, frames_per_second=128, max_duration=0.5):\n",
        "        self.df = df\n",
        "        self.data = []\n",
        "        self.labels = []\n",
        "        self.frames_per_second = frames_per_second\n",
        "        self.max_frames = int(frames_per_second * max_duration)\n",
        "\n",
        "        self.label_mapping = label_mapping\n",
        "\n",
        "        for ind in tqdm(range(len(df))):\n",
        "            row = df.iloc[ind]\n",
        "            file_path = os.path.join(base, row[in_col])\n",
        "            spec = spec_to_image(get_melspectrogram_db(file_path))[np.newaxis, ...]\n",
        "\n",
        "            # Pad or truncate the spectrogram to the target number of frames\n",
        "            if spec.shape[2] < self.max_frames:\n",
        "                leftover = self.max_frames - spec.shape[2]\n",
        "                half = leftover // 2\n",
        "\n",
        "                if leftover % 2 == 0:\n",
        "                    spec = np.pad(spec, ((0, 0), (0, 0), (half, half)), mode='edge')\n",
        "                else:\n",
        "                    spec = np.pad(spec, ((0, 0), (0, 0), (half + 1, half)), mode='edge')\n",
        "\n",
        "            label = self.label_mapping[row[out_col]]\n",
        "            # Convert label to one-hot encoding\n",
        "            one_hot_label = np.zeros(len(label_mapping))\n",
        "            one_hot_label[label] = 1\n",
        "            self.data.append(spec)\n",
        "            self.labels.append(np.float32(one_hot_label))\n",
        "\n",
        "    def __len__(self):\n",
        "        return len(self.data)\n",
        "\n",
        "    def __getitem__(self, idx):\n",
        "        return self.data[idx], torch.tensor(self.labels[idx], dtype=torch.float32)\n",
        "\n",
        "#might want to set a random seed here\n",
        "\n",
        "# Set prefix for file paths\n",
        "prefix = '/content/drive/MyDrive/SPOG/BabbleCor_clips/'\n",
        "\n",
        "# Split dataset into train and validation\n",
        "# train_size = int(0.8 * len(audios))\n",
        "# valid_size = len(audios) - train_size\n",
        "# train, valid = random_split(audios, [train_size, valid_size])\n",
        "\n",
        "train = pd.read_csv('/content/drive/MyDrive/SPOG/babblecor_train.csv')\n",
        "valid = pd.read_csv('/content/drive/MyDrive/SPOG/babblecor_test.csv')\n",
        "\n",
        "# Create datasets and data loaders\n",
        "train_dataset = AudioArrays(prefix, train, 'audio_file', 'label', frames_per_second=128, max_duration=0.5)\n",
        "valid_dataset = AudioArrays(prefix, valid, 'audio_file', 'label', frames_per_second=128, max_duration=0.5)\n",
        "\n",
        "train_loader = DataLoader(train_dataset, batch_size=16, shuffle=True)\n",
        "valid_loader = DataLoader(valid_dataset, batch_size=16, shuffle=True)\n",
        "\n",
        "\n",
        "# Create datasets and data loaders\n",
        "# audios_dataset = AudioArrays(prefix, audios, 'clip_ID', 'Answer', frames_per_second=128, max_duration=0.5)\n",
        "# train_dataset, valid_dataset = random_split(audios_dataset, [train_size, valid_size])\n",
        "\n",
        "# train_loader = DataLoader(train_dataset, batch_size=16, shuffle=True)\n",
        "# valid_loader = DataLoader(valid_dataset, batch_size=16, shuffle=True)"
      ],
      "metadata": {
        "colab": {
          "base_uri": "https://localhost:8080/"
        },
        "id": "_Y9mHnlv-Ywj",
        "outputId": "487d9ae0-8f5a-4b1d-8f0d-1ffe76bbf2a1"
      },
      "execution_count": 3,
      "outputs": [
        {
          "output_type": "stream",
          "name": "stderr",
          "text": [
            " 28%|██▊       | 1134/3996 [09:45<15:31,  3.07it/s]/usr/local/lib/python3.10/dist-packages/librosa/core/spectrum.py:257: UserWarning: n_fft=1600 is too large for input signal of length=1536\n",
            "  warnings.warn(\n",
            " 34%|███▍      | 1371/3996 [11:04<14:28,  3.02it/s]/usr/local/lib/python3.10/dist-packages/librosa/core/spectrum.py:257: UserWarning: n_fft=1600 is too large for input signal of length=1104\n",
            "  warnings.warn(\n",
            " 53%|█████▎    | 2104/3996 [15:09<11:16,  2.80it/s]/usr/local/lib/python3.10/dist-packages/librosa/core/spectrum.py:257: UserWarning: n_fft=1600 is too large for input signal of length=1344\n",
            "  warnings.warn(\n",
            " 92%|█████████▏| 3696/3996 [23:59<01:39,  3.01it/s]/usr/local/lib/python3.10/dist-packages/librosa/core/spectrum.py:257: UserWarning: n_fft=1600 is too large for input signal of length=944\n",
            "  warnings.warn(\n",
            "100%|██████████| 3996/3996 [25:43<00:00,  2.59it/s]\n",
            "  2%|▏         | 74/3691 [00:25<19:12,  3.14it/s]/usr/local/lib/python3.10/dist-packages/librosa/core/spectrum.py:257: UserWarning: n_fft=1600 is too large for input signal of length=576\n",
            "  warnings.warn(\n",
            " 15%|█▌        | 554/3691 [03:03<17:24,  3.00it/s]/usr/local/lib/python3.10/dist-packages/librosa/core/spectrum.py:257: UserWarning: n_fft=1600 is too large for input signal of length=1552\n",
            "  warnings.warn(\n",
            " 46%|████▌     | 1695/3691 [09:20<11:09,  2.98it/s]/usr/local/lib/python3.10/dist-packages/librosa/core/spectrum.py:257: UserWarning: n_fft=1600 is too large for input signal of length=1568\n",
            "  warnings.warn(\n",
            " 73%|███████▎  | 2702/3691 [14:51<05:44,  2.87it/s]/usr/local/lib/python3.10/dist-packages/librosa/core/spectrum.py:257: UserWarning: n_fft=1600 is too large for input signal of length=1408\n",
            "  warnings.warn(\n",
            " 80%|████████  | 2957/3691 [16:15<04:05,  2.99it/s]/usr/local/lib/python3.10/dist-packages/librosa/core/spectrum.py:257: UserWarning: n_fft=1600 is too large for input signal of length=1440\n",
            "  warnings.warn(\n",
            " 83%|████████▎ | 3064/3691 [16:51<03:30,  2.98it/s]/usr/local/lib/python3.10/dist-packages/librosa/core/spectrum.py:257: UserWarning: n_fft=1600 is too large for input signal of length=1168\n",
            "  warnings.warn(\n",
            " 83%|████████▎ | 3066/3691 [16:51<03:33,  2.92it/s]/usr/local/lib/python3.10/dist-packages/librosa/core/spectrum.py:257: UserWarning: n_fft=1600 is too large for input signal of length=1184\n",
            "  warnings.warn(\n",
            " 92%|█████████▏| 3411/3691 [18:47<06:37,  1.42s/it]/usr/local/lib/python3.10/dist-packages/librosa/core/spectrum.py:257: UserWarning: n_fft=1600 is too large for input signal of length=1376\n",
            "  warnings.warn(\n",
            " 93%|█████████▎| 3417/3691 [18:49<02:05,  2.19it/s]/usr/local/lib/python3.10/dist-packages/librosa/core/spectrum.py:257: UserWarning: n_fft=1600 is too large for input signal of length=960\n",
            "  warnings.warn(\n",
            "100%|██████████| 3691/3691 [20:19<00:00,  3.03it/s]\n"
          ]
        }
      ]
    },
    {
      "cell_type": "code",
      "source": [
        "# Load Pre-trained ResNet model\n",
        "from torchvision.models import resnet34\n",
        "resnet_model = resnet34(pretrained=True)\n",
        "resnet_model.fc = nn.Linear(512,5)\n",
        "resnet_model.conv1 = nn.Conv2d(1, 64, kernel_size=(7, 7), stride=(2, 2), padding=(3, 3), bias=False)\n",
        "\n",
        "# Set device\n",
        "device = torch.device('cuda' if torch.cuda.is_available() else 'cpu')\n",
        "resnet_model = resnet_model.to(device)"
      ],
      "metadata": {
        "colab": {
          "base_uri": "https://localhost:8080/"
        },
        "id": "2_U2iEnoPL4b",
        "outputId": "192eaa51-a27f-4bb8-e8bd-ea3cd06fa3d2"
      },
      "execution_count": 4,
      "outputs": [
        {
          "output_type": "stream",
          "name": "stderr",
          "text": [
            "/usr/local/lib/python3.10/dist-packages/torchvision/models/_utils.py:208: UserWarning: The parameter 'pretrained' is deprecated since 0.13 and may be removed in the future, please use 'weights' instead.\n",
            "  warnings.warn(\n",
            "/usr/local/lib/python3.10/dist-packages/torchvision/models/_utils.py:223: UserWarning: Arguments other than a weight enum or `None` for 'weights' are deprecated since 0.13 and may be removed in the future. The current behavior is equivalent to passing `weights=ResNet34_Weights.IMAGENET1K_V1`. You can also use `weights=ResNet34_Weights.DEFAULT` to get the most up-to-date weights.\n",
            "  warnings.warn(msg)\n",
            "Downloading: \"https://download.pytorch.org/models/resnet34-b627a593.pth\" to /root/.cache/torch/hub/checkpoints/resnet34-b627a593.pth\n",
            "100%|██████████| 83.3M/83.3M [00:00<00:00, 136MB/s]\n"
          ]
        }
      ]
    },
    {
      "cell_type": "code",
      "source": [
        "# Define loss function and optimizer\n",
        "loss_fn = nn.CrossEntropyLoss() # Binary cross-entropy loss for one-hot encoded labels\n",
        "learning_rate = 0.0001\n",
        "optimizer = optim.Adam(resnet_model.parameters(), lr=learning_rate)\n",
        "epochs = 10\n",
        "\n",
        "# Training loop\n",
        "for epoch in range(epochs):\n",
        "  resnet_model.train()\n",
        "  running_loss = 0.0\n",
        "  for inputs, labels in train_loader:\n",
        "    inputs, labels = inputs.to(device, dtype=torch.float32), labels.to(device, dtype=torch.float32)\n",
        "\n",
        "    optimizer.zero_grad()\n",
        "\n",
        "    outputs = resnet_model(inputs)\n",
        "    loss = loss_fn(outputs, labels)\n",
        "\n",
        "    loss.backward()\n",
        "    optimizer.step()\n",
        "\n",
        "    running_loss += loss.item() * inputs.size(0)\n",
        "\n",
        "  epoch_loss = running_loss / len(train_loader.dataset)\n",
        "  print(f\"Epoch {epoch+1}/{epochs}, Loss: {epoch_loss}\")\n",
        "\n",
        "  correct = 0\n",
        "  total = 0\n",
        "  with torch.no_grad():\n",
        "    for inputs, labels in valid_loader:\n",
        "        inputs, labels = inputs.to(device, dtype=torch.float32), labels.to(device, dtype=torch.float32)\n",
        "        outputs = resnet_model(inputs)\n",
        "        # predicted = torch.round(torch.sigmoid(outputs))  # Round to get binary predictions\n",
        "        # predicted = (outputs >= 0).float()\n",
        "        probabilities = torch.softmax(outputs, dim=1)\n",
        "        threshold = 0.5\n",
        "\n",
        "        # Convert probabilities to binary predictions\n",
        "        predicted = (probabilities >= threshold).float()\n",
        "        total += labels.size(0)\n",
        "        correct += (predicted == labels).all(dim=1).sum().item()\n",
        "    print(f\"Accuracy on validation set: {(correct / total) * 100}%\")\n",
        "\n",
        "  # resnet_model.eval()\n",
        "  # all_labels = []\n",
        "  # all_predicted = []\n",
        "\n",
        "  # with torch.no_grad():\n",
        "  #   for inputs, labels in valid_loader:\n",
        "  #     inputs, labels = inputs.to(device, dtype=torch.float32), labels.to(device, dtype=torch.float32)\n",
        "  #     outputs = resnet_model(inputs)\n",
        "  #     probabilities = torch.softmax(outputs, dim=1)\n",
        "  #     threshold = 0.5\n",
        "\n",
        "  #     # Convert probabilities to binary predictions\n",
        "  #     predicted = (probabilities >= threshold).float()\n",
        "\n",
        "  #     all_labels.extend(labels.cpu().numpy())\n",
        "  #     all_predicted.extend(predicted.cpu().numpy())\n",
        "\n",
        "  # # Convert lists to numpy arrays\n",
        "  # all_labels = np.array(all_labels)\n",
        "  # all_predicted = np.array(all_predicted)\n",
        "\n",
        "  # # Compute recall for each class\n",
        "  # recall_per_class = recall_score(all_labels, all_predicted, average=None)\n",
        "\n",
        "  # # Compute UAR\n",
        "  # uar = np.mean(recall_per_class)\n",
        "\n",
        "  # print(f\"Unweighted Average Recall (UAR) on validation set: {uar * 100}%\")"
      ],
      "metadata": {
        "colab": {
          "base_uri": "https://localhost:8080/"
        },
        "id": "pqFze0jB-2Vx",
        "outputId": "a559b16c-eefc-4865-b90f-20ae0170a278"
      },
      "execution_count": 5,
      "outputs": [
        {
          "output_type": "stream",
          "name": "stdout",
          "text": [
            "Epoch 1/10, Loss: 1.0072850951322683\n",
            "Accuracy on validation set: 53.481441343809266%\n",
            "Epoch 2/10, Loss: 0.7729934450384375\n",
            "Accuracy on validation set: 57.05770793822812%\n",
            "Epoch 3/10, Loss: 0.6438110872909233\n",
            "Accuracy on validation set: 60.30885938769981%\n",
            "Epoch 4/10, Loss: 0.49661515914164744\n",
            "Accuracy on validation set: 58.27688973178%\n",
            "Epoch 5/10, Loss: 0.3659282207518846\n",
            "Accuracy on validation set: 58.43944730425359%\n",
            "Epoch 6/10, Loss: 0.28758998925949597\n",
            "Accuracy on validation set: 60.71525331888377%\n",
            "Epoch 7/10, Loss: 0.21209335135476845\n",
            "Accuracy on validation set: 60.93199674884855%\n",
            "Epoch 8/10, Loss: 0.17847580190102855\n",
            "Accuracy on validation set: 62.90978054727716%\n",
            "Epoch 9/10, Loss: 0.11312911569796226\n",
            "Accuracy on validation set: 59.82118667027906%\n",
            "Epoch 10/10, Loss: 0.14145961542939162\n",
            "Accuracy on validation set: 62.25955025738282%\n"
          ]
        }
      ]
    },
    {
      "cell_type": "code",
      "source": [
        "# # Testing loop\n",
        "# resnet_model.eval()\n",
        "# correct = 0\n",
        "# total = 0\n",
        "# all_labels = []\n",
        "# all_predicted = []\n",
        "\n",
        "# with torch.no_grad():\n",
        "#     for inputs, labels in valid_loader:\n",
        "#         inputs, labels = inputs.to(device, dtype=torch.float32), labels.to(device, dtype=torch.float32)\n",
        "#         outputs = resnet_model(inputs)\n",
        "#         # predicted = torch.round(torch.sigmoid(outputs))  # Round to get binary predictions\n",
        "#         # predicted = (outputs >= 0).float()\n",
        "#         probabilities = torch.softmax(outputs, dim=1)\n",
        "#         threshold = 0.5\n",
        "\n",
        "#         # Convert probabilities to binary predictions\n",
        "#         predicted = (probabilities >= threshold).float()\n",
        "#         # print(predicted)\n",
        "#         total += labels.size(0)\n",
        "#         correct += (predicted == labels).all(dim=1).sum().item()\n",
        "#         # print((predicted == labels).all(dim=1).sum().item()\n",
        "#         # # print(total)\n",
        "#         # print(f\"label: {labels}\\n\")\n",
        "#         # print(f\"predicted: {predicted}\\n\")\n",
        "#         # print(\"---------\")\n",
        "#         all_labels.extend(labels.cpu().numpy())\n",
        "#         all_predicted.extend(predicted.cpu().numpy())\n",
        "\n",
        "\n",
        "# print(f\"Accuracy on validation set: {(correct / total) * 100}%\")\n",
        "\n",
        "# Testing loop\n",
        "resnet_model.eval()\n",
        "all_labels = []\n",
        "all_predicted = []\n",
        "\n",
        "with torch.no_grad():\n",
        "    for inputs, labels in valid_loader:\n",
        "        inputs, labels = inputs.to(device, dtype=torch.float32), labels.to(device, dtype=torch.float32)\n",
        "        outputs = resnet_model(inputs)\n",
        "        probabilities = torch.softmax(outputs, dim=1)\n",
        "        threshold = 0.5\n",
        "\n",
        "        # Convert probabilities to binary predictions\n",
        "        predicted = (probabilities >= threshold).float()\n",
        "\n",
        "        all_labels.extend(labels.cpu().numpy())\n",
        "        all_predicted.extend(predicted.cpu().numpy())\n",
        "\n",
        "# Convert lists to numpy arrays\n",
        "all_labels = np.array(all_labels)\n",
        "all_predicted = np.array(all_predicted)\n",
        "\n",
        "# Compute recall for each class\n",
        "recall_per_class = recall_score(all_labels, all_predicted, average=None)\n",
        "\n",
        "# Compute UAR\n",
        "uar = np.mean(recall_per_class)\n",
        "\n",
        "print(f\"Unweighted Average Recall (UAR) on validation set: {uar * 100}%\")\n"
      ],
      "metadata": {
        "colab": {
          "base_uri": "https://localhost:8080/"
        },
        "id": "8C5v713kO6MG",
        "outputId": "47632725-ac1c-4d74-a5d1-2117165e717c"
      },
      "execution_count": 6,
      "outputs": [
        {
          "output_type": "stream",
          "name": "stdout",
          "text": [
            "Unweighted Average Recall (UAR) on validation set: 44.136415503133335%\n"
          ]
        }
      ]
    },
    {
      "cell_type": "code",
      "source": [
        "arrays_with_multiple_ones = np.any(np.sum(all_predicted, axis=1) > 1)\n",
        "\n",
        "if arrays_with_multiple_ones:\n",
        "    print(\"There are arrays with more than one '1'.\")\n",
        "    print(f\"{np.sum(np.sum(all_predicted, axis=1) > 1)}\")\n",
        "else:\n",
        "    print(\"All arrays have at most one '1'.\")\n"
      ],
      "metadata": {
        "colab": {
          "base_uri": "https://localhost:8080/"
        },
        "id": "f355bE-aUdis",
        "outputId": "95279639-d8a1-40d4-af98-f0e8e9c18a70"
      },
      "execution_count": null,
      "outputs": [
        {
          "output_type": "stream",
          "name": "stdout",
          "text": [
            "All arrays have at most one '1'.\n"
          ]
        }
      ]
    },
    {
      "cell_type": "code",
      "source": [
        "from sklearn.metrics import confusion_matrix\n",
        "import numpy as np\n",
        "import matplotlib.pyplot as plt\n",
        "import seaborn as sns\n",
        "\n",
        "# Assuming 'true_labels' are the true labels and 'predicted_labels' are the predicted labels\n",
        "# You need to convert them from tensors to numpy arrays for use with confusion_matrix\n",
        "true_labels = np.argmax(all_labels, axis=1)\n",
        "predicted_labels = np.argmax(all_predicted, axis = 1)\n",
        "\n",
        "# Calculate the confusion matrix\n",
        "cm = confusion_matrix(true_labels, predicted_labels)\n",
        "\n",
        "# Define class labels (replace with your actual class labels)\n",
        "class_labels = ['Canonical', 'Non-canonical', 'Crying', 'Junk', 'Laughing']\n",
        "\n",
        "# Plot the confusion matrix\n",
        "plt.figure(figsize=(8, 6))\n",
        "sns.heatmap(cm, annot=True, cmap='Blues', fmt='g', xticklabels=class_labels, yticklabels=class_labels)\n",
        "plt.xlabel('Predicted')\n",
        "plt.ylabel('True')\n",
        "plt.title('Confusion Matrix')\n",
        "plt.show()\n"
      ],
      "metadata": {
        "id": "5RPs2FoVVAJ-",
        "colab": {
          "base_uri": "https://localhost:8080/",
          "height": 564
        },
        "outputId": "3f6a7170-a2cb-4d99-d9fe-181189d5bd55"
      },
      "execution_count": 7,
      "outputs": [
        {
          "output_type": "display_data",
          "data": {
            "text/plain": [
              "<Figure size 800x600 with 2 Axes>"
            ],
            "image/png": "[encoded data removed]"
          },
          "metadata": {}
        }
      ]
    },
    {
      "cell_type": "code",
      "source": [
        "import pandas as pd\n",
        "import matplotlib.pyplot as plt\n",
        "\n",
        "# Example DataFrame (replace this with your actual DataFrame)\n",
        "# audios = pd.DataFrame({'Label': ['Canonical', 'Non-canonical', 'Crying', 'Junk', 'Laughing', 'Canonical', 'Crying', 'Junk', 'Laughing']})\n",
        "\n",
        "# Get the counts of each label\n",
        "label_counts = audios['Label'].value_counts()\n",
        "\n",
        "# Plot the bar plot\n",
        "plt.figure(figsize=(8, 6))\n",
        "label_counts.plot(kind='bar', color='skyblue')\n",
        "plt.xlabel('Class Label')\n",
        "plt.ylabel('Number of Examples')\n",
        "plt.title('Number of Examples in Each Class')\n",
        "plt.xticks(rotation=45)  # Rotate x-axis labels for better readability\n",
        "plt.show()\n"
      ],
      "metadata": {
        "colab": {
          "base_uri": "https://localhost:8080/",
          "height": 630
        },
        "id": "OsyMz-aPafWa",
        "outputId": "ab5f552c-59cc-47b5-9b8e-370950da06a5"
      },
      "execution_count": null,
      "outputs": [
        {
          "output_type": "display_data",
          "data": {
            "text/plain": [
              "<Figure size 800x600 with 1 Axes>"
            ],
            "image/png": "[encoded data removed]"
          },
          "metadata": {}
        }
      ]
    },
    {
      "cell_type": "code",
      "source": [],
      "metadata": {
        "id": "_8yKqNR-enzx"
      },
      "execution_count": null,
      "outputs": []
    }
  ]
}